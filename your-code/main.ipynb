{
 "cells": [
  {
   "cell_type": "markdown",
   "metadata": {},
   "source": [
    "# Supervised Learning Model Evaluation Lab\n",
    "\n",
    "Complete the exercises below to solidify your knowledge and understanding of supervised learning model evaluation."
   ]
  },
  {
   "cell_type": "code",
   "execution_count": 1,
   "metadata": {},
   "outputs": [],
   "source": [
    "import pandas as pd"
   ]
  },
  {
   "cell_type": "markdown",
   "metadata": {},
   "source": [
    "## Regression Model Evaluation"
   ]
  },
  {
   "cell_type": "code",
   "execution_count": 2,
   "metadata": {},
   "outputs": [],
   "source": [
    "from sklearn.datasets import load_boston\n",
    "\n",
    "data = load_boston()\n",
    "\n",
    "X = pd.DataFrame(data[\"data\"], columns=data[\"feature_names\"])\n",
    "y = pd.DataFrame(data[\"target\"], columns=['MEDV'])\n",
    "\n",
    "data = pd.concat([X, y], axis=1)"
   ]
  },
  {
   "cell_type": "markdown",
   "metadata": {},
   "source": [
    "## 1. Split this data set into training (80%) and testing (20%) sets.\n",
    "\n",
    "The `MEDV` field represents the median value of owner-occupied homes (in $1000's) and is the target variable that we will want to predict."
   ]
  },
  {
   "cell_type": "code",
   "execution_count": 7,
   "metadata": {},
   "outputs": [],
   "source": [
    "from sklearn.model_selection import train_test_split\n",
    "X_train, X_test, y_train, y_test = train_test_split(X, y, test_size=0.2, random_state=66)"
   ]
  },
  {
   "cell_type": "code",
   "execution_count": 8,
   "metadata": {},
   "outputs": [
    {
     "data": {
      "text/plain": [
       "(404, 13)"
      ]
     },
     "execution_count": 8,
     "metadata": {},
     "output_type": "execute_result"
    }
   ],
   "source": [
    "X_train.shape"
   ]
  },
  {
   "cell_type": "code",
   "execution_count": 9,
   "metadata": {},
   "outputs": [
    {
     "data": {
      "text/plain": [
       "(404, 1)"
      ]
     },
     "execution_count": 9,
     "metadata": {},
     "output_type": "execute_result"
    }
   ],
   "source": [
    "y_train.shape"
   ]
  },
  {
   "cell_type": "markdown",
   "metadata": {},
   "source": [
    "## 2. Train a `LinearRegression` model on this data set and generate predictions on both the training and the testing set."
   ]
  },
  {
   "cell_type": "code",
   "execution_count": 13,
   "metadata": {},
   "outputs": [],
   "source": [
    "from sklearn.linear_model import LinearRegression\n",
    "lr = LinearRegression()\n",
    "train = lr.fit(X_train, y_train)"
   ]
  },
  {
   "cell_type": "code",
   "execution_count": 18,
   "metadata": {},
   "outputs": [
    {
     "data": {
      "text/plain": [
       "array([[32.22955688],\n",
       "       [17.56832714],\n",
       "       [ 9.14797786],\n",
       "       [13.68436835],\n",
       "       [14.74254611],\n",
       "       [31.87013952],\n",
       "       [23.93446864],\n",
       "       [21.50287988],\n",
       "       [18.6630205 ],\n",
       "       [24.85976688],\n",
       "       [27.26261082],\n",
       "       [27.98764736],\n",
       "       [22.37755784],\n",
       "       [13.69843663],\n",
       "       [40.61983473],\n",
       "       [ 8.47161469],\n",
       "       [13.42406867],\n",
       "       [26.66320378],\n",
       "       [20.8726909 ],\n",
       "       [26.94979284],\n",
       "       [21.05143519],\n",
       "       [32.84126517],\n",
       "       [13.59188656],\n",
       "       [13.17052078],\n",
       "       [17.98168675],\n",
       "       [27.33388053],\n",
       "       [29.77968501],\n",
       "       [20.03720275],\n",
       "       [23.40146287],\n",
       "       [21.93384465],\n",
       "       [20.24060207],\n",
       "       [11.44499879],\n",
       "       [20.53912276],\n",
       "       [34.35087924],\n",
       "       [22.3470426 ],\n",
       "       [15.21445872],\n",
       "       [37.12899   ],\n",
       "       [15.48146592],\n",
       "       [23.40899237],\n",
       "       [18.70427805],\n",
       "       [23.15143788],\n",
       "       [ 7.01365869],\n",
       "       [33.37938246],\n",
       "       [19.961371  ],\n",
       "       [25.1198038 ],\n",
       "       [18.07811608],\n",
       "       [19.69509732],\n",
       "       [18.442745  ],\n",
       "       [ 8.64071702],\n",
       "       [21.51156511],\n",
       "       [37.15444923],\n",
       "       [18.22483427],\n",
       "       [21.35111005],\n",
       "       [28.21467026],\n",
       "       [15.57061875],\n",
       "       [17.3041914 ],\n",
       "       [30.1661192 ],\n",
       "       [31.51098714],\n",
       "       [15.96611842],\n",
       "       [38.95760086],\n",
       "       [34.11752774],\n",
       "       [28.59841776],\n",
       "       [10.00249275],\n",
       "       [21.71811421],\n",
       "       [16.98371532],\n",
       "       [34.43140844],\n",
       "       [21.46720945],\n",
       "       [24.88229327],\n",
       "       [16.09543439],\n",
       "       [17.26273845],\n",
       "       [13.62226777],\n",
       "       [15.44491164],\n",
       "       [23.80415791],\n",
       "       [19.70939568],\n",
       "       [15.80937007],\n",
       "       [24.48162045],\n",
       "       [10.12388735],\n",
       "       [12.5432301 ],\n",
       "       [ 9.62239898],\n",
       "       [19.49292452],\n",
       "       [31.68958566],\n",
       "       [21.43626957],\n",
       "       [16.28610271],\n",
       "       [32.67484953],\n",
       "       [19.33117702],\n",
       "       [14.24199601],\n",
       "       [11.35547422],\n",
       "       [23.62142471],\n",
       "       [ 9.40660392],\n",
       "       [21.54544507],\n",
       "       [24.3395797 ],\n",
       "       [26.80433038],\n",
       "       [16.356758  ],\n",
       "       [36.96454919],\n",
       "       [34.45313924],\n",
       "       [18.43339782],\n",
       "       [29.3984514 ],\n",
       "       [25.48959644],\n",
       "       [19.21725459],\n",
       "       [ 6.05043734],\n",
       "       [17.77481671],\n",
       "       [13.05617172],\n",
       "       [22.95005931],\n",
       "       [13.6307124 ],\n",
       "       [22.74287549],\n",
       "       [25.62991677],\n",
       "       [15.80146847],\n",
       "       [17.94422652],\n",
       "       [ 6.71875488],\n",
       "       [24.84107209],\n",
       "       [27.5875709 ],\n",
       "       [27.09994178],\n",
       "       [20.85729158],\n",
       "       [16.92072147],\n",
       "       [32.34672923],\n",
       "       [24.83935344],\n",
       "       [35.76767043],\n",
       "       [22.49741724],\n",
       "       [17.37337799],\n",
       "       [25.34026675],\n",
       "       [16.56751688],\n",
       "       [24.94197973],\n",
       "       [31.41033074],\n",
       "       [28.33911981],\n",
       "       [28.99662896],\n",
       "       [22.01000461],\n",
       "       [34.44438902],\n",
       "       [18.6529867 ],\n",
       "       [16.9023222 ],\n",
       "       [20.29077281],\n",
       "       [35.98360073],\n",
       "       [18.68353804],\n",
       "       [29.14068316],\n",
       "       [28.15425629],\n",
       "       [21.13873788],\n",
       "       [16.89198196],\n",
       "       [21.61555824],\n",
       "       [22.11075354],\n",
       "       [14.26472621],\n",
       "       [34.1757858 ],\n",
       "       [29.45640597],\n",
       "       [24.84636903],\n",
       "       [28.21110935],\n",
       "       [23.685312  ],\n",
       "       [23.93072382],\n",
       "       [36.83402805],\n",
       "       [35.79502165],\n",
       "       [25.90337491],\n",
       "       [14.68214832],\n",
       "       [ 8.1136346 ],\n",
       "       [ 3.81647069],\n",
       "       [21.31869231],\n",
       "       [23.97741097],\n",
       "       [18.9738724 ],\n",
       "       [24.27797191],\n",
       "       [14.33426662],\n",
       "       [21.50974739],\n",
       "       [30.30916635],\n",
       "       [18.07623997],\n",
       "       [13.43755575],\n",
       "       [29.31989814],\n",
       "       [32.64667658],\n",
       "       [37.75812715],\n",
       "       [22.45731621],\n",
       "       [13.06897173],\n",
       "       [20.67443775],\n",
       "       [29.26382112],\n",
       "       [21.01664184],\n",
       "       [23.57523643],\n",
       "       [17.76291079],\n",
       "       [27.33943652],\n",
       "       [11.83641867],\n",
       "       [17.18778661],\n",
       "       [25.14245874],\n",
       "       [16.88193615],\n",
       "       [33.10142229],\n",
       "       [30.43658907],\n",
       "       [ 4.0600766 ],\n",
       "       [19.47603726],\n",
       "       [20.85428466],\n",
       "       [31.64598686],\n",
       "       [28.41458119],\n",
       "       [35.60221438],\n",
       "       [-4.29261245],\n",
       "       [ 9.32690818],\n",
       "       [25.78431616],\n",
       "       [23.87468576],\n",
       "       [24.85671726],\n",
       "       [35.74104869],\n",
       "       [15.79780519],\n",
       "       [23.81538416],\n",
       "       [22.51144867],\n",
       "       [27.41521386],\n",
       "       [ 1.35377419],\n",
       "       [22.20283355],\n",
       "       [28.28084344],\n",
       "       [20.38882176],\n",
       "       [14.35366106],\n",
       "       [23.51918202],\n",
       "       [24.36239849],\n",
       "       [11.50526494],\n",
       "       [15.98470311],\n",
       "       [18.77979596],\n",
       "       [32.62902079],\n",
       "       [24.78712332],\n",
       "       [33.72822415],\n",
       "       [28.77565734],\n",
       "       [29.17850681],\n",
       "       [28.27988569],\n",
       "       [15.38165946],\n",
       "       [24.09330084],\n",
       "       [25.09974659],\n",
       "       [19.07866611],\n",
       "       [17.22472966],\n",
       "       [32.94703852],\n",
       "       [19.74280227],\n",
       "       [27.34198061],\n",
       "       [36.49064281],\n",
       "       [24.28140145],\n",
       "       [19.05206584],\n",
       "       [ 4.46696304],\n",
       "       [34.99365034],\n",
       "       [20.10630721],\n",
       "       [30.72137262],\n",
       "       [29.59582999],\n",
       "       [ 2.34761292],\n",
       "       [28.55549109],\n",
       "       [21.22456756],\n",
       "       [31.71483637],\n",
       "       [34.33595684],\n",
       "       [17.52076956],\n",
       "       [27.37020639],\n",
       "       [17.91199651],\n",
       "       [12.08081754],\n",
       "       [14.87348131],\n",
       "       [14.49270523],\n",
       "       [26.80025305],\n",
       "       [36.66586711],\n",
       "       [25.29172235],\n",
       "       [19.78059241],\n",
       "       [ 7.01470118],\n",
       "       [19.76146148],\n",
       "       [19.86136089],\n",
       "       [23.38242441],\n",
       "       [26.96138372],\n",
       "       [10.52528933],\n",
       "       [43.81401404],\n",
       "       [19.68550263],\n",
       "       [19.25050197],\n",
       "       [18.31082901],\n",
       "       [12.98308536],\n",
       "       [17.55191281],\n",
       "       [24.75160493],\n",
       "       [16.74022357],\n",
       "       [21.34703152],\n",
       "       [35.45621223],\n",
       "       [ 4.94146059],\n",
       "       [31.20613671],\n",
       "       [11.00883971],\n",
       "       [18.4953821 ],\n",
       "       [13.94103845],\n",
       "       [22.55035083],\n",
       "       [25.23374489],\n",
       "       [30.41941569],\n",
       "       [14.44572065],\n",
       "       [18.04907586],\n",
       "       [19.93763159],\n",
       "       [18.94991161],\n",
       "       [30.48724208],\n",
       "       [21.87407116],\n",
       "       [27.12122438],\n",
       "       [16.462052  ],\n",
       "       [25.53773852],\n",
       "       [36.52558113],\n",
       "       [19.2560839 ],\n",
       "       [20.29327815],\n",
       "       [13.05968545],\n",
       "       [27.01983621],\n",
       "       [31.9786579 ],\n",
       "       [19.47414717],\n",
       "       [22.26711285],\n",
       "       [16.81438693],\n",
       "       [21.20560149],\n",
       "       [19.19198017],\n",
       "       [11.86026783],\n",
       "       [19.81842931],\n",
       "       [35.23055468],\n",
       "       [24.96062511],\n",
       "       [39.66190737],\n",
       "       [32.70750833],\n",
       "       [21.43577704],\n",
       "       [16.78777784],\n",
       "       [27.76622598],\n",
       "       [24.88882784],\n",
       "       [20.73447869],\n",
       "       [19.06202694],\n",
       "       [29.55369038],\n",
       "       [22.59723572],\n",
       "       [29.61460967],\n",
       "       [24.34882288],\n",
       "       [23.60781906],\n",
       "       [26.69068826],\n",
       "       [19.3619025 ],\n",
       "       [20.79768677],\n",
       "       [40.47455048],\n",
       "       [24.38167768],\n",
       "       [15.77793746],\n",
       "       [19.01196102],\n",
       "       [13.93117926],\n",
       "       [34.78582458],\n",
       "       [41.75944941],\n",
       "       [20.15927403],\n",
       "       [18.76035997],\n",
       "       [17.78266944],\n",
       "       [23.71420752],\n",
       "       [35.31061795],\n",
       "       [19.65821481],\n",
       "       [20.93384579],\n",
       "       [22.48791652],\n",
       "       [17.61001844],\n",
       "       [23.64311521],\n",
       "       [13.49768136],\n",
       "       [31.4648951 ],\n",
       "       [18.75012641],\n",
       "       [24.75866222],\n",
       "       [16.43773329],\n",
       "       [21.84251834],\n",
       "       [34.34871832],\n",
       "       [24.43847686],\n",
       "       [31.05061404],\n",
       "       [32.20007925],\n",
       "       [12.21197667],\n",
       "       [16.82792328],\n",
       "       [22.94029732],\n",
       "       [18.33113477],\n",
       "       [25.60342578],\n",
       "       [20.82239757],\n",
       "       [12.08373246],\n",
       "       [17.41782992],\n",
       "       [31.51713422],\n",
       "       [ 8.72758616],\n",
       "       [27.20478635],\n",
       "       [17.09631191],\n",
       "       [29.09837676],\n",
       "       [26.68691678],\n",
       "       [21.17921958],\n",
       "       [21.40480331],\n",
       "       [25.43798346],\n",
       "       [22.75724634],\n",
       "       [13.18044138],\n",
       "       [16.80810007],\n",
       "       [26.20460001],\n",
       "       [21.26021615],\n",
       "       [25.58564231],\n",
       "       [17.62051902],\n",
       "       [22.92602141],\n",
       "       [24.85451912],\n",
       "       [40.70508304],\n",
       "       [33.65285116],\n",
       "       [19.3668693 ],\n",
       "       [15.23097909],\n",
       "       [33.33859715],\n",
       "       [16.53146117],\n",
       "       [32.52707729],\n",
       "       [20.7756604 ],\n",
       "       [25.63590187],\n",
       "       [15.28684616],\n",
       "       [23.12818429],\n",
       "       [29.32137727],\n",
       "       [23.62566705],\n",
       "       [27.34824414],\n",
       "       [23.22073269],\n",
       "       [39.50208562],\n",
       "       [33.65264688],\n",
       "       [ 8.82024957],\n",
       "       [40.54214889],\n",
       "       [30.21737936],\n",
       "       [23.33210354],\n",
       "       [21.9187758 ],\n",
       "       [27.04390861],\n",
       "       [21.69793256],\n",
       "       [21.62335308],\n",
       "       [25.73813477],\n",
       "       [31.19104845],\n",
       "       [19.42626206],\n",
       "       [20.24281643],\n",
       "       [14.51444333],\n",
       "       [11.60897383],\n",
       "       [28.68816952],\n",
       "       [16.35403889],\n",
       "       [28.51814603],\n",
       "       [11.40796826],\n",
       "       [19.90395422],\n",
       "       [36.72975986],\n",
       "       [32.71329683],\n",
       "       [15.42483121],\n",
       "       [14.43730147],\n",
       "       [22.7891151 ],\n",
       "       [23.28605758],\n",
       "       [20.98277568],\n",
       "       [23.86285497],\n",
       "       [21.28255258],\n",
       "       [17.72411586],\n",
       "       [12.52074425]])"
      ]
     },
     "execution_count": 18,
     "metadata": {},
     "output_type": "execute_result"
    }
   ],
   "source": [
    "train_pred = train.predict(X_train)\n",
    "train_pred"
   ]
  },
  {
   "cell_type": "code",
   "execution_count": 16,
   "metadata": {
    "collapsed": true
   },
   "outputs": [
    {
     "data": {
      "text/plain": [
       "array([[11.85230551],\n",
       "       [34.84114546],\n",
       "       [30.1070265 ],\n",
       "       [42.82578231],\n",
       "       [19.19547111],\n",
       "       [18.18205574],\n",
       "       [23.13229461],\n",
       "       [21.28863276],\n",
       "       [37.27498141],\n",
       "       [14.59726415],\n",
       "       [24.78829435],\n",
       "       [12.822256  ],\n",
       "       [29.78111331],\n",
       "       [25.94139985],\n",
       "       [14.60910284],\n",
       "       [24.73885733],\n",
       "       [13.58008358],\n",
       "       [17.4464738 ],\n",
       "       [ 6.91730543],\n",
       "       [12.89488538],\n",
       "       [19.63297346],\n",
       "       [20.79671791],\n",
       "       [25.38560324],\n",
       "       [31.85194503],\n",
       "       [17.34769711],\n",
       "       [30.93178734],\n",
       "       [21.65119053],\n",
       "       [21.60283044],\n",
       "       [13.41419899],\n",
       "       [24.33942724],\n",
       "       [28.56233024],\n",
       "       [32.42926028],\n",
       "       [35.12128809],\n",
       "       [16.00700801],\n",
       "       [25.89808913],\n",
       "       [24.97148375],\n",
       "       [25.37798754],\n",
       "       [27.5149225 ],\n",
       "       [18.61827839],\n",
       "       [18.7666789 ],\n",
       "       [30.66154864],\n",
       "       [22.72153884],\n",
       "       [19.99406161],\n",
       "       [38.41929357],\n",
       "       [22.32334169],\n",
       "       [16.76520941],\n",
       "       [25.02701326],\n",
       "       [14.42491633],\n",
       "       [20.83271782],\n",
       "       [21.51181331],\n",
       "       [33.84902072],\n",
       "       [15.2790418 ],\n",
       "       [39.50497077],\n",
       "       [27.63134301],\n",
       "       [15.01798872],\n",
       "       [17.91261638],\n",
       "       [27.65851285],\n",
       "       [18.92894932],\n",
       "       [20.63285024],\n",
       "       [23.49253503],\n",
       "       [18.54401236],\n",
       "       [19.05350215],\n",
       "       [12.36716422],\n",
       "       [19.66532765],\n",
       "       [19.4166531 ],\n",
       "       [ 6.50778545],\n",
       "       [16.15861678],\n",
       "       [23.51565207],\n",
       "       [24.28718609],\n",
       "       [16.74888956],\n",
       "       [ 5.71779021],\n",
       "       [22.07342181],\n",
       "       [22.99423202],\n",
       "       [16.96088953],\n",
       "       [24.11726432],\n",
       "       [30.61418572],\n",
       "       [35.69806558],\n",
       "       [ 6.29087339],\n",
       "       [19.55927609],\n",
       "       [ 4.96640056],\n",
       "       [31.28527779],\n",
       "       [13.07323449],\n",
       "       [19.53727589],\n",
       "       [26.28992293],\n",
       "       [26.1477158 ],\n",
       "       [33.05126819],\n",
       "       [34.48027091],\n",
       "       [23.53841457],\n",
       "       [23.15495533],\n",
       "       [30.11291597],\n",
       "       [22.63870787],\n",
       "       [42.84729226],\n",
       "       [20.17425451],\n",
       "       [18.64739597],\n",
       "       [21.24742853],\n",
       "       [12.73662554],\n",
       "       [21.53727867],\n",
       "       [26.47269905],\n",
       "       [26.111005  ],\n",
       "       [29.44270514],\n",
       "       [15.93764829],\n",
       "       [20.75748917]])"
      ]
     },
     "execution_count": 16,
     "metadata": {},
     "output_type": "execute_result"
    }
   ],
   "source": [
    "test_pred = train.predict(X_test)\n",
    "test_pred"
   ]
  },
  {
   "cell_type": "markdown",
   "metadata": {},
   "source": [
    "## 3. Calculate and print R-squared for both the training and the testing set."
   ]
  },
  {
   "cell_type": "code",
   "execution_count": 19,
   "metadata": {},
   "outputs": [],
   "source": [
    "from sklearn import metrics"
   ]
  },
  {
   "cell_type": "code",
   "execution_count": 21,
   "metadata": {},
   "outputs": [
    {
     "data": {
      "text/plain": [
       "0.7205414401988551"
      ]
     },
     "execution_count": 21,
     "metadata": {},
     "output_type": "execute_result"
    }
   ],
   "source": [
    "train_r2 = metrics.r2_score(y_train, train_pred)\n",
    "train_r2"
   ]
  },
  {
   "cell_type": "code",
   "execution_count": 23,
   "metadata": {},
   "outputs": [
    {
     "data": {
      "text/plain": [
       "0.8111288663608656"
      ]
     },
     "execution_count": 23,
     "metadata": {},
     "output_type": "execute_result"
    }
   ],
   "source": [
    "test_r2 = metrics.r2_score(y_test, test_pred)\n",
    "test_r2"
   ]
  },
  {
   "cell_type": "markdown",
   "metadata": {},
   "source": [
    "## 4. Calculate and print mean squared error for both the training and the testing set."
   ]
  },
  {
   "cell_type": "code",
   "execution_count": 27,
   "metadata": {},
   "outputs": [],
   "source": [
    "train_mean_sq_error = metrics.mean_squared_error(y_train, train_pred)\n",
    "test_mean_sq_error = metrics.mean_squared_error(y_test, test_pred)"
   ]
  },
  {
   "cell_type": "code",
   "execution_count": 28,
   "metadata": {},
   "outputs": [
    {
     "name": "stdout",
     "output_type": "stream",
     "text": [
      "23.648267814700898\n",
      "15.78640412674494\n"
     ]
    }
   ],
   "source": [
    "print(train_mean_sq_error)\n",
    "print(test_mean_sq_error)"
   ]
  },
  {
   "cell_type": "markdown",
   "metadata": {},
   "source": [
    "## 5. Calculate and print mean absolute error for both the training and the testing set."
   ]
  },
  {
   "cell_type": "code",
   "execution_count": 29,
   "metadata": {},
   "outputs": [],
   "source": [
    "train_mean_abs_error = metrics.mean_absolute_error(y_train, train_pred)\n",
    "test_mean_abs_error = metrics.mean_absolute_error(y_test, test_pred)"
   ]
  },
  {
   "cell_type": "code",
   "execution_count": 30,
   "metadata": {},
   "outputs": [
    {
     "name": "stdout",
     "output_type": "stream",
     "text": [
      "3.3756597628891702\n",
      "2.9763875053513487\n"
     ]
    }
   ],
   "source": [
    "print(train_mean_abs_error)\n",
    "print(test_mean_abs_error)"
   ]
  },
  {
   "cell_type": "markdown",
   "metadata": {},
   "source": [
    "## Classification Model Evaluation"
   ]
  },
  {
   "cell_type": "code",
   "execution_count": 32,
   "metadata": {},
   "outputs": [],
   "source": [
    "from sklearn.datasets import load_iris\n",
    "\n",
    "data = load_iris()\n",
    "\n",
    "X = pd.DataFrame(data[\"data\"], columns=data[\"feature_names\"])\n",
    "y = pd.DataFrame(data[\"target\"], columns=[\"class\"])\n",
    "\n",
    "data = pd.concat([X, y], axis=1)"
   ]
  },
  {
   "cell_type": "code",
   "execution_count": 33,
   "metadata": {},
   "outputs": [
    {
     "data": {
      "text/html": [
       "<div>\n",
       "<style scoped>\n",
       "    .dataframe tbody tr th:only-of-type {\n",
       "        vertical-align: middle;\n",
       "    }\n",
       "\n",
       "    .dataframe tbody tr th {\n",
       "        vertical-align: top;\n",
       "    }\n",
       "\n",
       "    .dataframe thead th {\n",
       "        text-align: right;\n",
       "    }\n",
       "</style>\n",
       "<table border=\"1\" class=\"dataframe\">\n",
       "  <thead>\n",
       "    <tr style=\"text-align: right;\">\n",
       "      <th></th>\n",
       "      <th>sepal length (cm)</th>\n",
       "      <th>sepal width (cm)</th>\n",
       "      <th>petal length (cm)</th>\n",
       "      <th>petal width (cm)</th>\n",
       "    </tr>\n",
       "  </thead>\n",
       "  <tbody>\n",
       "    <tr>\n",
       "      <th>0</th>\n",
       "      <td>5.1</td>\n",
       "      <td>3.5</td>\n",
       "      <td>1.4</td>\n",
       "      <td>0.2</td>\n",
       "    </tr>\n",
       "    <tr>\n",
       "      <th>1</th>\n",
       "      <td>4.9</td>\n",
       "      <td>3.0</td>\n",
       "      <td>1.4</td>\n",
       "      <td>0.2</td>\n",
       "    </tr>\n",
       "    <tr>\n",
       "      <th>2</th>\n",
       "      <td>4.7</td>\n",
       "      <td>3.2</td>\n",
       "      <td>1.3</td>\n",
       "      <td>0.2</td>\n",
       "    </tr>\n",
       "    <tr>\n",
       "      <th>3</th>\n",
       "      <td>4.6</td>\n",
       "      <td>3.1</td>\n",
       "      <td>1.5</td>\n",
       "      <td>0.2</td>\n",
       "    </tr>\n",
       "    <tr>\n",
       "      <th>4</th>\n",
       "      <td>5.0</td>\n",
       "      <td>3.6</td>\n",
       "      <td>1.4</td>\n",
       "      <td>0.2</td>\n",
       "    </tr>\n",
       "    <tr>\n",
       "      <th>...</th>\n",
       "      <td>...</td>\n",
       "      <td>...</td>\n",
       "      <td>...</td>\n",
       "      <td>...</td>\n",
       "    </tr>\n",
       "    <tr>\n",
       "      <th>145</th>\n",
       "      <td>6.7</td>\n",
       "      <td>3.0</td>\n",
       "      <td>5.2</td>\n",
       "      <td>2.3</td>\n",
       "    </tr>\n",
       "    <tr>\n",
       "      <th>146</th>\n",
       "      <td>6.3</td>\n",
       "      <td>2.5</td>\n",
       "      <td>5.0</td>\n",
       "      <td>1.9</td>\n",
       "    </tr>\n",
       "    <tr>\n",
       "      <th>147</th>\n",
       "      <td>6.5</td>\n",
       "      <td>3.0</td>\n",
       "      <td>5.2</td>\n",
       "      <td>2.0</td>\n",
       "    </tr>\n",
       "    <tr>\n",
       "      <th>148</th>\n",
       "      <td>6.2</td>\n",
       "      <td>3.4</td>\n",
       "      <td>5.4</td>\n",
       "      <td>2.3</td>\n",
       "    </tr>\n",
       "    <tr>\n",
       "      <th>149</th>\n",
       "      <td>5.9</td>\n",
       "      <td>3.0</td>\n",
       "      <td>5.1</td>\n",
       "      <td>1.8</td>\n",
       "    </tr>\n",
       "  </tbody>\n",
       "</table>\n",
       "<p>150 rows × 4 columns</p>\n",
       "</div>"
      ],
      "text/plain": [
       "     sepal length (cm)  sepal width (cm)  petal length (cm)  petal width (cm)\n",
       "0                  5.1               3.5                1.4               0.2\n",
       "1                  4.9               3.0                1.4               0.2\n",
       "2                  4.7               3.2                1.3               0.2\n",
       "3                  4.6               3.1                1.5               0.2\n",
       "4                  5.0               3.6                1.4               0.2\n",
       "..                 ...               ...                ...               ...\n",
       "145                6.7               3.0                5.2               2.3\n",
       "146                6.3               2.5                5.0               1.9\n",
       "147                6.5               3.0                5.2               2.0\n",
       "148                6.2               3.4                5.4               2.3\n",
       "149                5.9               3.0                5.1               1.8\n",
       "\n",
       "[150 rows x 4 columns]"
      ]
     },
     "execution_count": 33,
     "metadata": {},
     "output_type": "execute_result"
    }
   ],
   "source": [
    "X\n"
   ]
  },
  {
   "cell_type": "code",
   "execution_count": 43,
   "metadata": {},
   "outputs": [
    {
     "data": {
      "text/plain": [
       "0      0\n",
       "1      0\n",
       "2      0\n",
       "3      0\n",
       "4      0\n",
       "      ..\n",
       "145    2\n",
       "146    2\n",
       "147    2\n",
       "148    2\n",
       "149    2\n",
       "Name: class, Length: 150, dtype: int64"
      ]
     },
     "execution_count": 43,
     "metadata": {},
     "output_type": "execute_result"
    }
   ],
   "source": [
    "y['class']"
   ]
  },
  {
   "cell_type": "markdown",
   "metadata": {},
   "source": [
    "## 6. Split this data set into training (80%) and testing (20%) sets.\n",
    "\n",
    "The `class` field represents the type of flower and is the target variable that we will want to predict."
   ]
  },
  {
   "cell_type": "code",
   "execution_count": 35,
   "metadata": {},
   "outputs": [],
   "source": [
    "X_train, X_test, y_train, y_test = train_test_split(X, y, test_size=0.2, random_state=5)"
   ]
  },
  {
   "cell_type": "markdown",
   "metadata": {},
   "source": [
    "## 7. Train a `LogisticRegression` model on this data set and generate predictions on both the training and the testing set."
   ]
  },
  {
   "cell_type": "code",
   "execution_count": 36,
   "metadata": {},
   "outputs": [],
   "source": [
    "from sklearn.linear_model import LogisticRegression"
   ]
  },
  {
   "cell_type": "code",
   "execution_count": 39,
   "metadata": {},
   "outputs": [],
   "source": [
    "log = LogisticRegression(max_iter=10000)"
   ]
  },
  {
   "cell_type": "code",
   "execution_count": 46,
   "metadata": {},
   "outputs": [
    {
     "data": {
      "text/plain": [
       "LogisticRegression(max_iter=10000)"
      ]
     },
     "execution_count": 46,
     "metadata": {},
     "output_type": "execute_result"
    }
   ],
   "source": [
    "log.fit(\n",
    "    X=X_train,\n",
    "    y=y_train['class']\n",
    ")"
   ]
  },
  {
   "cell_type": "code",
   "execution_count": 47,
   "metadata": {},
   "outputs": [],
   "source": [
    "train_log_pred = log.predict(X_train)\n",
    "test_log_pred = log.predict(X_test)"
   ]
  },
  {
   "cell_type": "markdown",
   "metadata": {},
   "source": [
    "## 8. Calculate and print the accuracy score for both the training and the testing set."
   ]
  },
  {
   "cell_type": "code",
   "execution_count": 48,
   "metadata": {},
   "outputs": [],
   "source": [
    "from sklearn.metrics import accuracy_score, precision_score, recall_score, f1_score"
   ]
  },
  {
   "cell_type": "code",
   "execution_count": 49,
   "metadata": {},
   "outputs": [],
   "source": [
    "train_acc = accuracy_score(\n",
    "    y_true=y_train,\n",
    "    y_pred=train_log_pred\n",
    ")\n",
    "test_acc = accuracy_score(\n",
    "    y_true=y_test,\n",
    "    y_pred=test_log_pred\n",
    ")"
   ]
  },
  {
   "cell_type": "code",
   "execution_count": 50,
   "metadata": {},
   "outputs": [
    {
     "name": "stdout",
     "output_type": "stream",
     "text": [
      "0.9833333333333333\n",
      "0.9666666666666667\n"
     ]
    }
   ],
   "source": [
    "print(train_acc)\n",
    "print(test_acc)"
   ]
  },
  {
   "cell_type": "markdown",
   "metadata": {},
   "source": [
    "## 9. Calculate and print the balanced accuracy score for both the training and the testing set."
   ]
  },
  {
   "cell_type": "code",
   "execution_count": 52,
   "metadata": {},
   "outputs": [],
   "source": [
    "from sklearn.metrics import balanced_accuracy_score\n",
    "\n",
    "train_b_acc = balanced_accuracy_score(\n",
    "    y_true=y_train,\n",
    "    y_pred=train_log_pred\n",
    ")\n",
    "test_b_acc = balanced_accuracy_score(\n",
    "    y_true=y_test,\n",
    "    y_pred=test_log_pred\n",
    ")\n"
   ]
  },
  {
   "cell_type": "code",
   "execution_count": 53,
   "metadata": {},
   "outputs": [
    {
     "name": "stdout",
     "output_type": "stream",
     "text": [
      "0.982905982905983\n",
      "0.9696969696969697\n"
     ]
    }
   ],
   "source": [
    "print(train_b_acc)\n",
    "print(test_b_acc)"
   ]
  },
  {
   "cell_type": "markdown",
   "metadata": {},
   "source": [
    "## 10. Calculate and print the precision score for both the training and the testing set."
   ]
  },
  {
   "cell_type": "code",
   "execution_count": 56,
   "metadata": {},
   "outputs": [
    {
     "name": "stdout",
     "output_type": "stream",
     "text": [
      "[1.         1.         0.95121951]\n"
     ]
    }
   ],
   "source": [
    "train_prec = precision_score(\n",
    "    y_true= y_train,\n",
    "    y_pred=train_log_pred,\n",
    "    average = None\n",
    ")\n",
    "print(train_prec)"
   ]
  },
  {
   "cell_type": "code",
   "execution_count": 58,
   "metadata": {},
   "outputs": [
    {
     "name": "stdout",
     "output_type": "stream",
     "text": [
      "[1.         1.         0.91666667]\n"
     ]
    }
   ],
   "source": [
    "test_prec = precision_score(\n",
    "    y_true= y_test,\n",
    "    y_pred=test_log_pred,\n",
    "    average = None\n",
    ")\n",
    "print(test_prec)"
   ]
  },
  {
   "cell_type": "markdown",
   "metadata": {},
   "source": [
    "## 11. Calculate and print the recall score for both the training and the testing set."
   ]
  },
  {
   "cell_type": "code",
   "execution_count": 61,
   "metadata": {},
   "outputs": [
    {
     "name": "stdout",
     "output_type": "stream",
     "text": [
      "[1.         0.94871795 1.        ]\n"
     ]
    }
   ],
   "source": [
    "train_recal = recall_score(\n",
    "    y_true=y_train,\n",
    "    y_pred=train_log_pred,\n",
    "    average = None\n",
    ")\n",
    "print(train_recal)"
   ]
  },
  {
   "cell_type": "code",
   "execution_count": 63,
   "metadata": {},
   "outputs": [
    {
     "name": "stdout",
     "output_type": "stream",
     "text": [
      "[1.         0.90909091 1.        ]\n"
     ]
    }
   ],
   "source": [
    "test_recal = recall_score(y_true = y_test,\n",
    "                         y_pred = test_log_pred,\n",
    "                         average = None)\n",
    "print(test_recal)"
   ]
  },
  {
   "cell_type": "markdown",
   "metadata": {},
   "source": [
    "## 12. Calculate and print the F1 score for both the training and the testing set."
   ]
  },
  {
   "cell_type": "code",
   "execution_count": 66,
   "metadata": {},
   "outputs": [
    {
     "name": "stdout",
     "output_type": "stream",
     "text": [
      "[1.         0.97368421 0.975     ]\n"
     ]
    }
   ],
   "source": [
    "f1_train = f1_score(\n",
    "    y_true=y_train,\n",
    "    y_pred=train_log_pred,\n",
    "average = None)\n",
    "print(f1_train)"
   ]
  },
  {
   "cell_type": "code",
   "execution_count": 68,
   "metadata": {},
   "outputs": [
    {
     "name": "stdout",
     "output_type": "stream",
     "text": [
      "[1.         0.95238095 0.95652174]\n"
     ]
    }
   ],
   "source": [
    "f1_test = f1_score(\n",
    "y_true = y_test,\n",
    "y_pred = test_log_pred,\n",
    "average = None)\n",
    "\n",
    "print(f1_test)"
   ]
  },
  {
   "cell_type": "markdown",
   "metadata": {},
   "source": [
    "## 13. Generate confusion matrices for both the training and the testing set."
   ]
  },
  {
   "cell_type": "code",
   "execution_count": 92,
   "metadata": {},
   "outputs": [
    {
     "data": {
      "text/plain": [
       "39     0\n",
       "53     1\n",
       "79     1\n",
       "10     0\n",
       "50     1\n",
       "      ..\n",
       "8      0\n",
       "73     1\n",
       "144    2\n",
       "118    2\n",
       "99     1\n",
       "Name: class, Length: 120, dtype: int64"
      ]
     },
     "execution_count": 92,
     "metadata": {},
     "output_type": "execute_result"
    }
   ],
   "source": [
    "y_train['class']"
   ]
  },
  {
   "cell_type": "code",
   "execution_count": 75,
   "metadata": {},
   "outputs": [],
   "source": [
    "from sklearn.metrics import confusion_matrix"
   ]
  },
  {
   "cell_type": "code",
   "execution_count": 95,
   "metadata": {},
   "outputs": [
    {
     "data": {
      "text/html": [
       "<div>\n",
       "<style scoped>\n",
       "    .dataframe tbody tr th:only-of-type {\n",
       "        vertical-align: middle;\n",
       "    }\n",
       "\n",
       "    .dataframe tbody tr th {\n",
       "        vertical-align: top;\n",
       "    }\n",
       "\n",
       "    .dataframe thead th {\n",
       "        text-align: right;\n",
       "    }\n",
       "</style>\n",
       "<table border=\"1\" class=\"dataframe\">\n",
       "  <thead>\n",
       "    <tr style=\"text-align: right;\">\n",
       "      <th>col_0</th>\n",
       "      <th>0</th>\n",
       "      <th>1</th>\n",
       "      <th>2</th>\n",
       "    </tr>\n",
       "    <tr>\n",
       "      <th>class</th>\n",
       "      <th></th>\n",
       "      <th></th>\n",
       "      <th></th>\n",
       "    </tr>\n",
       "  </thead>\n",
       "  <tbody>\n",
       "    <tr>\n",
       "      <th>0</th>\n",
       "      <td>42</td>\n",
       "      <td>0</td>\n",
       "      <td>0</td>\n",
       "    </tr>\n",
       "    <tr>\n",
       "      <th>1</th>\n",
       "      <td>0</td>\n",
       "      <td>37</td>\n",
       "      <td>2</td>\n",
       "    </tr>\n",
       "    <tr>\n",
       "      <th>2</th>\n",
       "      <td>0</td>\n",
       "      <td>0</td>\n",
       "      <td>39</td>\n",
       "    </tr>\n",
       "  </tbody>\n",
       "</table>\n",
       "</div>"
      ],
      "text/plain": [
       "col_0   0   1   2\n",
       "class            \n",
       "0      42   0   0\n",
       "1       0  37   2\n",
       "2       0   0  39"
      ]
     },
     "execution_count": 95,
     "metadata": {},
     "output_type": "execute_result"
    }
   ],
   "source": [
    "train_crosstab = pd.crosstab(y_train['class'], train_log_pred)\n",
    "train_crosstab"
   ]
  },
  {
   "cell_type": "code",
   "execution_count": 78,
   "metadata": {},
   "outputs": [
    {
     "data": {
      "text/plain": [
       "array([[42,  0,  0],\n",
       "       [ 0, 37,  2],\n",
       "       [ 0,  0, 39]])"
      ]
     },
     "execution_count": 78,
     "metadata": {},
     "output_type": "execute_result"
    }
   ],
   "source": [
    "train_matrix = confusion_matrix(\n",
    "    y_true = y_train,\n",
    "    y_pred = train_log_pred)\n",
    "\n",
    "train_matrix"
   ]
  },
  {
   "cell_type": "code",
   "execution_count": 97,
   "metadata": {},
   "outputs": [
    {
     "data": {
      "text/html": [
       "<div>\n",
       "<style scoped>\n",
       "    .dataframe tbody tr th:only-of-type {\n",
       "        vertical-align: middle;\n",
       "    }\n",
       "\n",
       "    .dataframe tbody tr th {\n",
       "        vertical-align: top;\n",
       "    }\n",
       "\n",
       "    .dataframe thead th {\n",
       "        text-align: right;\n",
       "    }\n",
       "</style>\n",
       "<table border=\"1\" class=\"dataframe\">\n",
       "  <thead>\n",
       "    <tr style=\"text-align: right;\">\n",
       "      <th>col_0</th>\n",
       "      <th>0</th>\n",
       "      <th>1</th>\n",
       "      <th>2</th>\n",
       "    </tr>\n",
       "    <tr>\n",
       "      <th>class</th>\n",
       "      <th></th>\n",
       "      <th></th>\n",
       "      <th></th>\n",
       "    </tr>\n",
       "  </thead>\n",
       "  <tbody>\n",
       "    <tr>\n",
       "      <th>0</th>\n",
       "      <td>8</td>\n",
       "      <td>0</td>\n",
       "      <td>0</td>\n",
       "    </tr>\n",
       "    <tr>\n",
       "      <th>1</th>\n",
       "      <td>0</td>\n",
       "      <td>10</td>\n",
       "      <td>1</td>\n",
       "    </tr>\n",
       "    <tr>\n",
       "      <th>2</th>\n",
       "      <td>0</td>\n",
       "      <td>0</td>\n",
       "      <td>11</td>\n",
       "    </tr>\n",
       "  </tbody>\n",
       "</table>\n",
       "</div>"
      ],
      "text/plain": [
       "col_0  0   1   2\n",
       "class           \n",
       "0      8   0   0\n",
       "1      0  10   1\n",
       "2      0   0  11"
      ]
     },
     "execution_count": 97,
     "metadata": {},
     "output_type": "execute_result"
    }
   ],
   "source": [
    "test_crosstab = pd.crosstab(y_test['class'], test_log_pred)\n",
    "test_crosstab"
   ]
  },
  {
   "cell_type": "code",
   "execution_count": 98,
   "metadata": {},
   "outputs": [
    {
     "data": {
      "text/plain": [
       "array([[42,  0,  0],\n",
       "       [ 0, 37,  2],\n",
       "       [ 0,  0, 39]])"
      ]
     },
     "execution_count": 98,
     "metadata": {},
     "output_type": "execute_result"
    }
   ],
   "source": [
    "test_matrix = confusion_matrix(\n",
    "    y_true = y_test['class'],\n",
    "    y_pred = test_log_pred)\n",
    "\n",
    "train_matrix"
   ]
  },
  {
   "cell_type": "markdown",
   "metadata": {},
   "source": [
    "## Bonus: For each of the data sets in this lab, try training with some of the other models you have learned about, recalculate the evaluation metrics, and compare to determine which models perform best on each data set."
   ]
  }
 ],
 "metadata": {
  "kernelspec": {
   "display_name": "Python 3",
   "language": "python",
   "name": "python3"
  },
  "language_info": {
   "codemirror_mode": {
    "name": "ipython",
    "version": 3
   },
   "file_extension": ".py",
   "mimetype": "text/x-python",
   "name": "python",
   "nbconvert_exporter": "python",
   "pygments_lexer": "ipython3",
   "version": "3.8.5"
  }
 },
 "nbformat": 4,
 "nbformat_minor": 2
}
