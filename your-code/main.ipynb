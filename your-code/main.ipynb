{
 "cells": [
  {
   "cell_type": "markdown",
   "metadata": {},
   "source": [
    "# Supervised Learning Model Evaluation Lab\n",
    "\n",
    "Complete the exercises below to solidify your knowledge and understanding of supervised learning model evaluation."
   ]
  },
  {
   "cell_type": "code",
   "execution_count": 1,
   "metadata": {},
   "outputs": [],
   "source": [
    "import pandas as pd\n",
    "from sklearn.model_selection import train_test_split\n",
    "from sklearn.linear_model import LinearRegression\n",
    "from sklearn import metrics\n",
    "from sklearn.metrics import confusion_matrix,ConfusionMatrixDisplay\n",
    "import numpy as np\n",
    "from sklearn.linear_model import LogisticRegression\n",
    "import matplotlib.pyplot as plt\n",
    "from sklearn.metrics import accuracy_score, precision_score, recall_score, f1_score, fbeta_score, balanced_accuracy_score"
   ]
  },
  {
   "cell_type": "markdown",
   "metadata": {},
   "source": [
    "## Regression Model Evaluation"
   ]
  },
  {
   "cell_type": "code",
   "execution_count": 2,
   "metadata": {},
   "outputs": [],
   "source": [
    "from sklearn.datasets import load_boston\n",
    "\n",
    "data = load_boston()\n",
    "\n",
    "X = pd.DataFrame(data[\"data\"], columns=data[\"feature_names\"])\n",
    "y = pd.DataFrame(data[\"target\"], columns=['MEDV'])\n",
    "\n",
    "data = pd.concat([X, y], axis=1)"
   ]
  },
  {
   "cell_type": "markdown",
   "metadata": {},
   "source": [
    "## 1. Split this data set into training (80%) and testing (20%) sets.\n",
    "\n",
    "The `MEDV` field represents the median value of owner-occupied homes (in $1000's) and is the target variable that we will want to predict."
   ]
  },
  {
   "cell_type": "code",
   "execution_count": 4,
   "metadata": {},
   "outputs": [],
   "source": [
    "X_train_1, X_test_1, y_train_1, y_test_1 = train_test_split(X,y, test_size = 0.2)"
   ]
  },
  {
   "cell_type": "markdown",
   "metadata": {},
   "source": [
    "## 2. Train a `LinearRegression` model on this data set and generate predictions on both the training and the testing set."
   ]
  },
  {
   "cell_type": "code",
   "execution_count": 7,
   "metadata": {},
   "outputs": [],
   "source": [
    "lr = LinearRegression()"
   ]
  },
  {
   "cell_type": "code",
   "execution_count": 8,
   "metadata": {},
   "outputs": [
    {
     "data": {
      "text/plain": [
       "LinearRegression()"
      ]
     },
     "execution_count": 8,
     "metadata": {},
     "output_type": "execute_result"
    }
   ],
   "source": [
    "lr.fit(X_train_1,y_train_1)"
   ]
  },
  {
   "cell_type": "code",
   "execution_count": 9,
   "metadata": {},
   "outputs": [],
   "source": [
    "y_pred_1 = lr.predict(X_test_1)\n",
    "y_pred_train_1 = lr.predict(X_train_1)"
   ]
  },
  {
   "cell_type": "markdown",
   "metadata": {},
   "source": [
    "## 3. Calculate and print R-squared for both the training and the testing set."
   ]
  },
  {
   "cell_type": "code",
   "execution_count": 10,
   "metadata": {},
   "outputs": [
    {
     "name": "stdout",
     "output_type": "stream",
     "text": [
      "R2 (test):  0.727\n",
      "R2 (train):  0.738\n"
     ]
    }
   ],
   "source": [
    "print(\"R2 (test): \", metrics.r2_score(y_test_1,y_pred_1).round(3))\n",
    "print(\"R2 (train): \", metrics.r2_score(y_train_1,y_pred_train_1).round(3))"
   ]
  },
  {
   "cell_type": "markdown",
   "metadata": {},
   "source": [
    "## 4. Calculate and print mean squared error for both the training and the testing set."
   ]
  },
  {
   "cell_type": "code",
   "execution_count": 11,
   "metadata": {},
   "outputs": [
    {
     "name": "stdout",
     "output_type": "stream",
     "text": [
      "MSE (test):  18.358\n",
      "MSE (train):  23.273\n"
     ]
    }
   ],
   "source": [
    "print(\"MSE (test): \", metrics.mean_squared_error(y_test_1,y_pred_1).round(3))\n",
    "print(\"MSE (train): \", metrics.mean_squared_error(y_train_1,y_pred_train_1).round(3))"
   ]
  },
  {
   "cell_type": "markdown",
   "metadata": {},
   "source": [
    "## 5. Calculate and print mean absolute error for both the training and the testing set."
   ]
  },
  {
   "cell_type": "code",
   "execution_count": 12,
   "metadata": {},
   "outputs": [
    {
     "name": "stdout",
     "output_type": "stream",
     "text": [
      "MSE (test):  3.336\n",
      "MSE (train):  3.402\n"
     ]
    }
   ],
   "source": [
    "print(\"MSE (test): \", metrics.mean_absolute_error(y_test_1,y_pred_1).round(3))\n",
    "print(\"MSE (train): \", metrics.mean_absolute_error(y_train_1,y_pred_train_1).round(3))"
   ]
  },
  {
   "cell_type": "markdown",
   "metadata": {},
   "source": [
    "## Classification Model Evaluation"
   ]
  },
  {
   "cell_type": "code",
   "execution_count": 13,
   "metadata": {},
   "outputs": [],
   "source": [
    "from sklearn.datasets import load_iris\n",
    "\n",
    "data = load_iris()\n",
    "\n",
    "X = pd.DataFrame(data[\"data\"], columns=data[\"feature_names\"])\n",
    "y = pd.DataFrame(data[\"target\"], columns=[\"class\"])\n",
    "\n",
    "data = pd.concat([X, y], axis=1)"
   ]
  },
  {
   "cell_type": "markdown",
   "metadata": {},
   "source": [
    "## 6. Split this data set into training (80%) and testing (20%) sets.\n",
    "\n",
    "The `class` field represents the type of flower and is the target variable that we will want to predict."
   ]
  },
  {
   "cell_type": "code",
   "execution_count": 14,
   "metadata": {},
   "outputs": [],
   "source": [
    "X_train, X_test, y_train, y_test = train_test_split(X,y, test_size = 0.2)"
   ]
  },
  {
   "cell_type": "markdown",
   "metadata": {},
   "source": [
    "## 7. Train a `LogisticRegression` model on this data set and generate predictions on both the training and the testing set."
   ]
  },
  {
   "cell_type": "code",
   "execution_count": 15,
   "metadata": {},
   "outputs": [],
   "source": [
    "log = LogisticRegression()"
   ]
  },
  {
   "cell_type": "code",
   "execution_count": 16,
   "metadata": {},
   "outputs": [
    {
     "name": "stderr",
     "output_type": "stream",
     "text": [
      "/Users/julietastaryfurmanshalom/opt/anaconda3/lib/python3.8/site-packages/sklearn/utils/validation.py:72: DataConversionWarning: A column-vector y was passed when a 1d array was expected. Please change the shape of y to (n_samples, ), for example using ravel().\n",
      "  return f(**kwargs)\n",
      "/Users/julietastaryfurmanshalom/opt/anaconda3/lib/python3.8/site-packages/sklearn/linear_model/_logistic.py:762: ConvergenceWarning: lbfgs failed to converge (status=1):\n",
      "STOP: TOTAL NO. of ITERATIONS REACHED LIMIT.\n",
      "\n",
      "Increase the number of iterations (max_iter) or scale the data as shown in:\n",
      "    https://scikit-learn.org/stable/modules/preprocessing.html\n",
      "Please also refer to the documentation for alternative solver options:\n",
      "    https://scikit-learn.org/stable/modules/linear_model.html#logistic-regression\n",
      "  n_iter_i = _check_optimize_result(\n"
     ]
    },
    {
     "data": {
      "text/plain": [
       "LogisticRegression()"
      ]
     },
     "execution_count": 16,
     "metadata": {},
     "output_type": "execute_result"
    }
   ],
   "source": [
    "log.fit(X_train,y_train)"
   ]
  },
  {
   "cell_type": "code",
   "execution_count": 17,
   "metadata": {},
   "outputs": [],
   "source": [
    "y_pred = log.predict(X_test)\n",
    "y_pred_train = log.predict(X_train)"
   ]
  },
  {
   "cell_type": "markdown",
   "metadata": {},
   "source": [
    "## 8. Calculate and print the accuracy score for both the training and the testing set."
   ]
  },
  {
   "cell_type": "code",
   "execution_count": 18,
   "metadata": {},
   "outputs": [
    {
     "name": "stdout",
     "output_type": "stream",
     "text": [
      "Accuracy (test):  0.9333333333333333\n",
      "Accuracy (train):  0.98\n"
     ]
    }
   ],
   "source": [
    "print(\"Accuracy (test): \", accuracy_score(y_test,y_pred))\n",
    "print(\"Accuracy (train): \", accuracy_score(y_train,y_pred_train).round(2))"
   ]
  },
  {
   "cell_type": "markdown",
   "metadata": {},
   "source": [
    "## 9. Calculate and print the balanced accuracy score for both the training and the testing set."
   ]
  },
  {
   "cell_type": "code",
   "execution_count": 40,
   "metadata": {},
   "outputs": [
    {
     "name": "stdout",
     "output_type": "stream",
     "text": [
      "Balanced accuracy (test):  0.9212962962962963\n",
      "Balanced accuracy (train):  0.98\n"
     ]
    }
   ],
   "source": [
    "print(\"Balanced accuracy (test): \", balanced_accuracy_score(y_test,y_pred))\n",
    "print(\"Balanced accuracy (train): \", balanced_accuracy_score(y_train,y_pred_train).round(2))"
   ]
  },
  {
   "cell_type": "markdown",
   "metadata": {},
   "source": [
    "## 10. Calculate and print the precision score for both the training and the testing set."
   ]
  },
  {
   "cell_type": "code",
   "execution_count": 20,
   "metadata": {},
   "outputs": [
    {
     "name": "stdout",
     "output_type": "stream",
     "text": [
      "Precision (test):  0.93\n",
      "Precison (train):  0.98\n"
     ]
    }
   ],
   "source": [
    "print(\"Precision (test): \", precision_score(y_test,y_pred, average='micro').round(2))\n",
    "print(\"Precison (train): \", precision_score(y_train,y_pred_train, average='micro').round(2))"
   ]
  },
  {
   "cell_type": "markdown",
   "metadata": {},
   "source": [
    "## 11. Calculate and print the recall score for both the training and the testing set."
   ]
  },
  {
   "cell_type": "code",
   "execution_count": 21,
   "metadata": {},
   "outputs": [
    {
     "name": "stdout",
     "output_type": "stream",
     "text": [
      "Recall (test):  0.93\n",
      "Recall (train):  0.98\n"
     ]
    }
   ],
   "source": [
    "print(\"Recall (test): \", recall_score(y_test,y_pred, average='micro').round(2))\n",
    "print(\"Recall (train): \", recall_score(y_train,y_pred_train, average='micro').round(2))"
   ]
  },
  {
   "cell_type": "markdown",
   "metadata": {},
   "source": [
    "## 12. Calculate and print the F1 score for both the training and the testing set."
   ]
  },
  {
   "cell_type": "code",
   "execution_count": 22,
   "metadata": {},
   "outputs": [
    {
     "name": "stdout",
     "output_type": "stream",
     "text": [
      "F1 (test):  0.93\n",
      "F1 (train):  0.98\n"
     ]
    }
   ],
   "source": [
    "print(\"F1 (test): \", f1_score(y_test,y_pred, average='micro').round(2))\n",
    "print(\"F1 (train): \", f1_score(y_train,y_pred_train, average='micro').round(2))"
   ]
  },
  {
   "cell_type": "markdown",
   "metadata": {},
   "source": [
    "## 13. Generate confusion matrices for both the training and the testing set."
   ]
  },
  {
   "cell_type": "code",
   "execution_count": 23,
   "metadata": {},
   "outputs": [
    {
     "data": {
      "text/plain": [
       "Text(0.5, 1.0, 'Confusion Matrix Tested Data')"
      ]
     },
     "execution_count": 23,
     "metadata": {},
     "output_type": "execute_result"
    },
    {
     "data": {
      "image/png": "[encoded data removed]",
      "text/plain": [
       "<Figure size 864x360 with 2 Axes>"
      ]
     },
     "metadata": {
      "needs_background": "light"
     },
     "output_type": "display_data"
    }
   ],
   "source": [
    "fig, ax = plt.subplots(figsize=(12, 5))\n",
    "ConfusionMatrixDisplay(confusion_matrix = confusion_matrix(y_test, y_pred)).plot(cmap=\"Blues\", ax=ax)\n",
    "ax.set_title(\"Confusion Matrix Tested Data\")\n"
   ]
  },
  {
   "cell_type": "code",
   "execution_count": 24,
   "metadata": {},
   "outputs": [
    {
     "data": {
      "text/plain": [
       "Text(0.5, 1.0, 'Confusion Matrix Trained Data')"
      ]
     },
     "execution_count": 24,
     "metadata": {},
     "output_type": "execute_result"
    },
    {
     "data": {
      "image/png": "[encoded data removed]",
      "text/plain": [
       "<Figure size 864x360 with 2 Axes>"
      ]
     },
     "metadata": {
      "needs_background": "light"
     },
     "output_type": "display_data"
    }
   ],
   "source": [
    "fig, ax = plt.subplots(figsize=(12, 5))\n",
    "ConfusionMatrixDisplay(confusion_matrix = confusion_matrix(y_train, y_pred_train)).plot(cmap=\"Blues\", ax=ax)\n",
    "ax.set_title(\"Confusion Matrix Trained Data\")\n"
   ]
  },
  {
   "cell_type": "markdown",
   "metadata": {},
   "source": [
    "## Bonus: For each of the data sets in this lab, try training with some of the other models you have learned about, recalculate the evaluation metrics, and compare to determine which models perform best on each data set."
   ]
  },
  {
   "cell_type": "code",
   "execution_count": 25,
   "metadata": {},
   "outputs": [],
   "source": [
    "from sklearn.linear_model import Ridge, Lasso\n",
    "from sklearn.linear_model import SGDRegressor\n",
    "from sklearn.neighbors import KNeighborsRegressor\n",
    "from sklearn.ensemble import GradientBoostingRegressor"
   ]
  },
  {
   "cell_type": "markdown",
   "metadata": {},
   "source": [
    "### 1st Dataset"
   ]
  },
  {
   "cell_type": "code",
   "execution_count": 50,
   "metadata": {},
   "outputs": [],
   "source": [
    "models = {\"linear\" : LinearRegression(),\n",
    "          \"ridge\": Ridge(),\n",
    "          \"lasso\": Lasso(),\n",
    "          \"sgd\": SGDRegressor(),\n",
    "          \"knn\": KNeighborsRegressor(),\n",
    "          \"gradient\": GradientBoostingRegressor()\n",
    "}"
   ]
  },
  {
   "cell_type": "code",
   "execution_count": 57,
   "metadata": {},
   "outputs": [
    {
     "name": "stdout",
     "output_type": "stream",
     "text": [
      "Training model ---> linear\n",
      "Done⚡️\n",
      "Training model ---> ridge\n",
      "Done⚡️\n",
      "Training model ---> lasso\n",
      "Done⚡️\n",
      "Training model ---> sgd\n",
      "Done⚡️\n",
      "Training model ---> knn\n",
      "Done⚡️\n",
      "Training model ---> gradient\n",
      "Done⚡️\n"
     ]
    },
    {
     "name": "stderr",
     "output_type": "stream",
     "text": [
      "/Users/julietastaryfurmanshalom/opt/anaconda3/lib/python3.8/site-packages/sklearn/utils/validation.py:72: DataConversionWarning: A column-vector y was passed when a 1d array was expected. Please change the shape of y to (n_samples, ), for example using ravel().\n",
      "  return f(**kwargs)\n",
      "/Users/julietastaryfurmanshalom/opt/anaconda3/lib/python3.8/site-packages/sklearn/utils/validation.py:72: DataConversionWarning: A column-vector y was passed when a 1d array was expected. Please change the shape of y to (n_samples, ), for example using ravel().\n",
      "  return f(**kwargs)\n"
     ]
    }
   ],
   "source": [
    "for name, model in models.items():\n",
    "    print(f\"Training model ---> {name}\")\n",
    "    model.fit(X_train_1,y_train_1)\n",
    "    print(f\"Done⚡️\")"
   ]
  },
  {
   "cell_type": "code",
   "execution_count": 58,
   "metadata": {},
   "outputs": [
    {
     "name": "stdout",
     "output_type": "stream",
     "text": [
      "--------linear--------\n",
      "MAE:  3.3359\n",
      "MSE:  18.3576\n",
      "RMSE:  4.2846\n",
      "R2:  0.7275\n",
      "\n",
      "\n",
      "--------ridge--------\n",
      "MAE:  3.2329\n",
      "MSE:  17.6426\n",
      "RMSE:  4.2003\n",
      "R2:  0.7381\n",
      "\n",
      "\n",
      "--------lasso--------\n",
      "MAE:  3.358\n",
      "MSE:  19.7315\n",
      "RMSE:  4.442\n",
      "R2:  0.7071\n",
      "\n",
      "\n",
      "--------sgd--------\n",
      "MAE:  63589665825490.42\n",
      "MSE:  4.6884201202645195e+27\n",
      "RMSE:  68472038966752.84\n",
      "R2:  -6.960742152393417e+25\n",
      "\n",
      "\n",
      "--------knn--------\n",
      "MAE:  3.9839\n",
      "MSE:  28.5986\n",
      "RMSE:  5.3478\n",
      "R2:  0.5754\n",
      "\n",
      "\n",
      "--------gradient--------\n",
      "MAE:  2.183\n",
      "MSE:  8.1721\n",
      "RMSE:  2.8587\n",
      "R2:  0.8787\n",
      "\n",
      "\n"
     ]
    }
   ],
   "source": [
    "for name, model in models.items():\n",
    "    y_pred_1 = model.predict(X_test_1)\n",
    "    print(f\"--------{name}--------\")\n",
    "    print(\"MAE: \", metrics.mean_absolute_error(y_test_1, y_pred_1).round(4))\n",
    "    print(\"MSE: \", metrics.mean_squared_error(y_test_1,y_pred_1).round(4))\n",
    "    print(\"RMSE: \", np.sqrt(metrics.mean_squared_error(y_test_1,y_pred_1)).round(4))\n",
    "    print(\"R2: \", metrics.r2_score(y_test_1,y_pred_1).round(4))\n",
    "    print(\"\\n\")"
   ]
  },
  {
   "cell_type": "markdown",
   "metadata": {},
   "source": [
    "**The model that best fits the reality is `gradient` (bigger R2 and lower errors)**"
   ]
  },
  {
   "cell_type": "markdown",
   "metadata": {},
   "source": [
    "### 2nd Dataset"
   ]
  },
  {
   "cell_type": "code",
   "execution_count": 55,
   "metadata": {},
   "outputs": [
    {
     "name": "stdout",
     "output_type": "stream",
     "text": [
      "Training model ---> linear\n",
      "Done⚡️\n",
      "Training model ---> ridge\n",
      "Done⚡️\n",
      "Training model ---> lasso\n",
      "Done⚡️\n",
      "Training model ---> sgd\n",
      "Done⚡️\n",
      "Training model ---> knn\n",
      "Done⚡️\n",
      "Training model ---> gradient\n",
      "Done⚡️\n"
     ]
    },
    {
     "name": "stderr",
     "output_type": "stream",
     "text": [
      "/Users/julietastaryfurmanshalom/opt/anaconda3/lib/python3.8/site-packages/sklearn/utils/validation.py:72: DataConversionWarning: A column-vector y was passed when a 1d array was expected. Please change the shape of y to (n_samples, ), for example using ravel().\n",
      "  return f(**kwargs)\n",
      "/Users/julietastaryfurmanshalom/opt/anaconda3/lib/python3.8/site-packages/sklearn/utils/validation.py:72: DataConversionWarning: A column-vector y was passed when a 1d array was expected. Please change the shape of y to (n_samples, ), for example using ravel().\n",
      "  return f(**kwargs)\n"
     ]
    }
   ],
   "source": [
    "for name, model in models.items():\n",
    "    print(f\"Training model ---> {name}\")\n",
    "    model.fit(X_train,y_train)\n",
    "    print(f\"Done⚡️\")"
   ]
  },
  {
   "cell_type": "code",
   "execution_count": 56,
   "metadata": {},
   "outputs": [
    {
     "name": "stdout",
     "output_type": "stream",
     "text": [
      "--------linear--------\n",
      "Accuracy:   0.93\n",
      "Balanced accuracy:   0.9213\n",
      "Precision:   0.9333\n",
      "Recall:   0.9333\n",
      "F1Score:   0.9333\n",
      "\n",
      "\n",
      "--------ridge--------\n",
      "Accuracy:   0.93\n",
      "Balanced accuracy:   0.9213\n",
      "Precision:   0.9333\n",
      "Recall:   0.9333\n",
      "F1Score:   0.9333\n",
      "\n",
      "\n",
      "--------lasso--------\n",
      "Accuracy:   0.93\n",
      "Balanced accuracy:   0.9213\n",
      "Precision:   0.9333\n",
      "Recall:   0.9333\n",
      "F1Score:   0.9333\n",
      "\n",
      "\n",
      "--------sgd--------\n",
      "Accuracy:   0.93\n",
      "Balanced accuracy:   0.9213\n",
      "Precision:   0.9333\n",
      "Recall:   0.9333\n",
      "F1Score:   0.9333\n",
      "\n",
      "\n",
      "--------knn--------\n",
      "Accuracy:   0.93\n",
      "Balanced accuracy:   0.9213\n",
      "Precision:   0.9333\n",
      "Recall:   0.9333\n",
      "F1Score:   0.9333\n",
      "\n",
      "\n",
      "--------gradient--------\n",
      "Accuracy:   0.93\n",
      "Balanced accuracy:   0.9213\n",
      "Precision:   0.9333\n",
      "Recall:   0.9333\n",
      "F1Score:   0.9333\n",
      "\n",
      "\n"
     ]
    }
   ],
   "source": [
    "for name, model in models.items():\n",
    "    y_pred_1 = model.predict(X_test)\n",
    "    print(f\"--------{name}--------\")\n",
    "    print(\"Accuracy:  \", accuracy_score(y_test,y_pred).round(2))\n",
    "    print(\"Balanced accuracy:  \", balanced_accuracy_score(y_test,y_pred).round(4))\n",
    "    print(\"Precision:  \", precision_score(y_test,y_pred, average='micro').round(4))\n",
    "    print(\"Recall:  \", recall_score(y_test,y_pred, average='micro').round(4))\n",
    "    print(\"F1Score:  \", f1_score(y_test,y_pred, average='micro').round(4))\n",
    "    print(\"\\n\")"
   ]
  },
  {
   "cell_type": "markdown",
   "metadata": {},
   "source": [
    "**All models behave in the same way**"
   ]
  },
  {
   "cell_type": "code",
   "execution_count": null,
   "metadata": {},
   "outputs": [],
   "source": []
  }
 ],
 "metadata": {
  "kernelspec": {
   "display_name": "Python 3",
   "language": "python",
   "name": "python3"
  },
  "language_info": {
   "codemirror_mode": {
    "name": "ipython",
    "version": 3
   },
   "file_extension": ".py",
   "mimetype": "text/x-python",
   "name": "python",
   "nbconvert_exporter": "python",
   "pygments_lexer": "ipython3",
   "version": "3.8.5"
  }
 },
 "nbformat": 4,
 "nbformat_minor": 2
}
